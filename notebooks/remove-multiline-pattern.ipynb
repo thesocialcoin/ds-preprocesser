{
 "cells": [
  {
   "cell_type": "code",
   "execution_count": 21,
   "metadata": {},
   "outputs": [],
   "source": [
    "import os\n",
    "from os.path import join, dirname\n",
    "\n",
    "os.sys.path.append(join(dirname(os.getcwd()), 'src'))"
   ]
  },
  {
   "cell_type": "code",
   "execution_count": 22,
   "metadata": {},
   "outputs": [
    {
     "data": {
      "text/plain": [
       "<preprocesser.models._classes.PreProcesser at 0x1107bdff0>"
      ]
     },
     "execution_count": 22,
     "metadata": {},
     "output_type": "execute_result"
    }
   ],
   "source": [
    "from preprocesser.models import PreProcesser\n",
    "\n",
    "p = PreProcesser()\n",
    "p"
   ]
  },
  {
   "cell_type": "code",
   "execution_count": 23,
   "metadata": {},
   "outputs": [
    {
     "data": {
      "text/plain": [
       "'Hola Como\\n\\nva mi pana @user\\n\\nQue tal'"
      ]
     },
     "execution_count": 23,
     "metadata": {},
     "output_type": "execute_result"
    }
   ],
   "source": [
    "text = \"\"\"Hola Como\n",
    "\n",
    "va mi pana @user\n",
    "\n",
    "Que tal\"\"\"\n",
    "\n",
    "\n",
    "text"
   ]
  },
  {
   "cell_type": "code",
   "execution_count": 24,
   "metadata": {},
   "outputs": [
    {
     "data": {
      "text/plain": [
       "{'raw_text': 'Hola Como\\n\\nva mi pana @user\\n\\nQue tal',\n",
       " 'urls': [],\n",
       " 'successions': {'begin': None, 'end': None},\n",
       " 'users': ['@user'],\n",
       " 'tags': [],\n",
       " '#s': [],\n",
       " 'emojis': [],\n",
       " 'exclams': 0,\n",
       " 'questions': 0,\n",
       " 'stops': 0,\n",
       " 'elongateds': 0,\n",
       " 'numbers': {'dates': [], 'years': [], 'prices': [], 'other': []},\n",
       " 'text': 'hola como va mi pana que tal'}"
      ]
     },
     "execution_count": 24,
     "metadata": {},
     "output_type": "execute_result"
    }
   ],
   "source": [
    "p(text)"
   ]
  },
  {
   "cell_type": "code",
   "execution_count": 25,
   "metadata": {},
   "outputs": [
    {
     "data": {
      "text/plain": [
       "{'raw_text': 'Hola Como\\n\\nva mi pana @user\\n\\nQue tal',\n",
       " 'urls': [],\n",
       " 'successions': {'begin': None, 'end': None},\n",
       " 'users': ['@user'],\n",
       " 'tags': [],\n",
       " '#s': [],\n",
       " 'emojis': [],\n",
       " 'exclams': 0,\n",
       " 'questions': 0,\n",
       " 'stops': 0,\n",
       " 'elongateds': 0,\n",
       " 'numbers': {'dates': [], 'years': [], 'prices': [], 'other': []},\n",
       " 'text': 'hola como va mi pana que tal'}"
      ]
     },
     "execution_count": 25,
     "metadata": {},
     "output_type": "execute_result"
    }
   ],
   "source": [
    "p.preprocess(text)"
   ]
  },
  {
   "cell_type": "code",
   "execution_count": null,
   "metadata": {},
   "outputs": [],
   "source": []
  }
 ],
 "metadata": {
  "kernelspec": {
   "display_name": "ds-preprocessing",
   "language": "python",
   "name": "python3"
  },
  "language_info": {
   "codemirror_mode": {
    "name": "ipython",
    "version": 3
   },
   "file_extension": ".py",
   "mimetype": "text/x-python",
   "name": "python",
   "nbconvert_exporter": "python",
   "pygments_lexer": "ipython3",
   "version": "3.10.13"
  }
 },
 "nbformat": 4,
 "nbformat_minor": 2
}
