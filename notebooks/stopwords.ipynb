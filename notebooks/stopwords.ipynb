{
 "cells": [
  {
   "cell_type": "code",
   "execution_count": 1,
   "metadata": {},
   "outputs": [],
   "source": [
    "import os\n",
    "from os.path import join, dirname\n",
    "\n",
    "os.sys.path.append(join(dirname(os.getcwd()), 'src'))\n"
   ]
  },
  {
   "cell_type": "code",
   "execution_count": 2,
   "metadata": {},
   "outputs": [
    {
     "data": {
      "text/plain": [
       "'/Users/annasenent/Citibeats/ds-preprocessing/src'"
      ]
     },
     "execution_count": 2,
     "metadata": {},
     "output_type": "execute_result"
    }
   ],
   "source": [
    "join(dirname(os.getcwd()), 'src')"
   ]
  },
  {
   "cell_type": "code",
   "execution_count": 3,
   "metadata": {},
   "outputs": [],
   "source": [
    "import preprocesser.models as M"
   ]
  },
  {
   "cell_type": "code",
   "execution_count": 4,
   "metadata": {},
   "outputs": [
    {
     "data": {
      "text/plain": [
       "('sol brilla', {'stopwords': {'el': 1}})"
      ]
     },
     "execution_count": 4,
     "metadata": {},
     "output_type": "execute_result"
    }
   ],
   "source": [
    "text = \"el sol brilla\"\n",
    "M.removeStopWords(text, 'es')"
   ]
  },
  {
   "cell_type": "code",
   "execution_count": 5,
   "metadata": {},
   "outputs": [
    {
     "data": {
      "text/plain": [
       "{'raw_text': 'the sun shines',\n",
       " 'urls': [],\n",
       " 'successions': {'begin': None, 'end': None},\n",
       " 'users': [],\n",
       " '#s': [],\n",
       " 'emojis': [],\n",
       " 'exclams': 0,\n",
       " 'questions': 0,\n",
       " 'stops': 0,\n",
       " 'elongateds': 0,\n",
       " 'capitalized': [],\n",
       " 'numbers': {'dates': [], 'years': [], 'prices': [], 'other': []},\n",
       " 'punctuation': [],\n",
       " 'text': 'the sun shines'}"
      ]
     },
     "execution_count": 5,
     "metadata": {},
     "output_type": "execute_result"
    }
   ],
   "source": [
    "text = \"the sun shines\"\n",
    "preprocesser = M.EN_PreProcesser({\"remove_stopwords\": False})\n",
    "preprocesser(text)"
   ]
  },
  {
   "cell_type": "code",
   "execution_count": 6,
   "metadata": {},
   "outputs": [
    {
     "data": {
      "text/plain": [
       "{'raw_text': 'the sun shines',\n",
       " 'urls': [],\n",
       " 'successions': {'begin': None, 'end': None},\n",
       " 'users': [],\n",
       " '#s': [],\n",
       " 'emojis': [],\n",
       " 'exclams': 0,\n",
       " 'questions': 0,\n",
       " 'stops': 0,\n",
       " 'elongateds': 0,\n",
       " 'capitalized': [],\n",
       " 'numbers': {'dates': [], 'years': [], 'prices': [], 'other': []},\n",
       " 'punctuation': [],\n",
       " 'text': 'sun shines',\n",
       " 'stopwords': {'the': 1}}"
      ]
     },
     "execution_count": 6,
     "metadata": {},
     "output_type": "execute_result"
    }
   ],
   "source": [
    "text = \"the sun shines\"\n",
    "preprocesser = M.EN_PreProcesser({\"remove_stopwords\": True})\n",
    "preprocesser(text)"
   ]
  },
  {
   "cell_type": "code",
   "execution_count": 7,
   "metadata": {},
   "outputs": [
    {
     "data": {
      "text/plain": [
       "{'raw_text': 'the eee sun shines',\n",
       " 'urls': [],\n",
       " 'successions': {'begin': None, 'end': None},\n",
       " 'users': [],\n",
       " '#s': [],\n",
       " 'emojis': [],\n",
       " 'exclams': 0,\n",
       " 'questions': 0,\n",
       " 'stops': 0,\n",
       " 'elongateds': 1,\n",
       " 'capitalized': [],\n",
       " 'numbers': {'dates': [], 'years': [], 'prices': [], 'other': []},\n",
       " 'punctuation': [],\n",
       " 'text': 'sun shines',\n",
       " 'stopwords': {'the': 1, 'e': 1}}"
      ]
     },
     "execution_count": 7,
     "metadata": {},
     "output_type": "execute_result"
    }
   ],
   "source": [
    "text = \"the eee sun shines\"\n",
    "preprocesser = M.EN_PreProcesser()\n",
    "preprocesser(text)"
   ]
  },
  {
   "cell_type": "code",
   "execution_count": 8,
   "metadata": {},
   "outputs": [
    {
     "data": {
      "text/plain": [
       "{'raw_text': 'the theee !!! sun shines',\n",
       " 'urls': [],\n",
       " 'successions': {'begin': None, 'end': None},\n",
       " 'users': [],\n",
       " '#s': [],\n",
       " 'emojis': [],\n",
       " 'exclams': 1,\n",
       " 'questions': 0,\n",
       " 'stops': 0,\n",
       " 'elongateds': 1,\n",
       " 'capitalized': [],\n",
       " 'numbers': {'dates': [], 'years': [], 'prices': [], 'other': []},\n",
       " 'punctuation': ['!'],\n",
       " 'text': 'the the   sun shines'}"
      ]
     },
     "execution_count": 8,
     "metadata": {},
     "output_type": "execute_result"
    }
   ],
   "source": [
    "text = \"the theee !!! sun shines\"\n",
    "preprocesser = M.PreProcesser()\n",
    "preprocesser(text)"
   ]
  },
  {
   "cell_type": "code",
   "execution_count": 9,
   "metadata": {},
   "outputs": [
    {
     "data": {
      "text/plain": [
       "{'raw_text': 'sunflower seeds? cool',\n",
       " 'urls': [],\n",
       " 'successions': {'begin': None, 'end': None},\n",
       " 'users': [],\n",
       " '#s': [],\n",
       " 'emojis': [],\n",
       " 'exclams': 0,\n",
       " 'questions': 0,\n",
       " 'stops': 0,\n",
       " 'elongateds': 0,\n",
       " 'capitalized': [],\n",
       " 'numbers': {'dates': [], 'years': [], 'prices': [], 'other': []},\n",
       " 'punctuation': ['?'],\n",
       " 'text': 'sunflower seeds  cool'}"
      ]
     },
     "execution_count": 9,
     "metadata": {},
     "output_type": "execute_result"
    }
   ],
   "source": [
    "# Keeping duplicated characters\n",
    "text = 'sunflower seeds? cool'\n",
    "\n",
    "preprocesser = M.PreProcesser()\n",
    "preprocesser(text)"
   ]
  },
  {
   "cell_type": "code",
   "execution_count": 10,
   "metadata": {},
   "outputs": [
    {
     "data": {
      "text/plain": [
       "{'raw_text': 'YEEEEEEESSS',\n",
       " 'urls': [],\n",
       " 'successions': {'begin': None, 'end': None},\n",
       " 'users': [],\n",
       " '#s': [],\n",
       " 'emojis': [],\n",
       " 'exclams': 0,\n",
       " 'questions': 0,\n",
       " 'stops': 0,\n",
       " 'elongateds': 2,\n",
       " 'capitalized': ['YES'],\n",
       " 'numbers': {'dates': [], 'years': [], 'prices': [], 'other': []},\n",
       " 'punctuation': [],\n",
       " 'text': 'yes'}"
      ]
     },
     "execution_count": 10,
     "metadata": {},
     "output_type": "execute_result"
    }
   ],
   "source": [
    "# More than one elongated character in the same word\n",
    "text = 'YEEEEEEESSS'\n",
    "\n",
    "preprocesser = M.PreProcesser()\n",
    "preprocesser(text)"
   ]
  },
  {
   "cell_type": "code",
   "execution_count": 11,
   "metadata": {},
   "outputs": [
    {
     "data": {
      "text/plain": [
       "{'raw_text': 'HOLA CÓMO ESTÁS',\n",
       " 'urls': [],\n",
       " 'successions': {'begin': None, 'end': None},\n",
       " 'users': [],\n",
       " '#s': [],\n",
       " 'emojis': [],\n",
       " 'exclams': 0,\n",
       " 'questions': 0,\n",
       " 'stops': 0,\n",
       " 'elongateds': 0,\n",
       " 'capitalized': ['HOLA'],\n",
       " 'numbers': {'dates': [], 'years': [], 'prices': [], 'other': []},\n",
       " 'punctuation': [],\n",
       " 'text': 'hola CÓMO ESTÁS'}"
      ]
     },
     "execution_count": 11,
     "metadata": {},
     "output_type": "execute_result"
    }
   ],
   "source": [
    "# accents + upper case\n",
    "text = 'HOLA CÓMO ESTÁS'\n",
    "\n",
    "preprocesser = M.PreProcesser()\n",
    "preprocesser(text)"
   ]
  },
  {
   "cell_type": "code",
   "execution_count": 13,
   "metadata": {},
   "outputs": [
    {
     "data": {
      "text/plain": [
       "{'raw_text': '¡¿el} {sol |brilla. (Pero hace: [frío])',\n",
       " 'urls': [],\n",
       " 'successions': {'begin': None, 'end': None},\n",
       " 'users': [],\n",
       " '#s': [],\n",
       " 'emojis': [],\n",
       " 'exclams': 0,\n",
       " 'questions': 0,\n",
       " 'stops': 0,\n",
       " 'elongateds': 0,\n",
       " 'capitalized': [],\n",
       " 'numbers': {'dates': [], 'years': [], 'prices': [], 'other': []},\n",
       " 'punctuation': ['¡¿', '}', '{', '|', '.', '(', ':', '[', '])'],\n",
       " 'text': ' el   sol  brilla   Pero hace   frío '}"
      ]
     },
     "execution_count": 13,
     "metadata": {},
     "output_type": "execute_result"
    }
   ],
   "source": [
    "# punctuation\n",
    "text = '¡¿el} {sol |brilla. (Pero hace: [frío])'\n",
    "preprocesser = M.PreProcesser()\n",
    "preprocesser(text)"
   ]
  },
  {
   "cell_type": "code",
   "execution_count": 15,
   "metadata": {},
   "outputs": [
    {
     "data": {
      "text/plain": [
       "{'raw_text': 'Llueve',\n",
       " 'urls': [],\n",
       " 'successions': {'begin': None, 'end': None},\n",
       " 'users': [],\n",
       " '#s': [],\n",
       " 'emojis': [],\n",
       " 'exclams': 0,\n",
       " 'questions': 0,\n",
       " 'stops': 0,\n",
       " 'elongateds': 0,\n",
       " 'capitalized': [],\n",
       " 'numbers': {'dates': [], 'years': [], 'prices': [], 'other': []},\n",
       " 'punctuation': [],\n",
       " 'text': 'Llueve'}"
      ]
     },
     "execution_count": 15,
     "metadata": {},
     "output_type": "execute_result"
    }
   ],
   "source": [
    "# word-initial uppercase\n",
    "text = 'Llueve'\n",
    "preprocesser = M.PreProcesser()\n",
    "#preprocesser = M.ES_PreProcesser()\n",
    "preprocesser(text)"
   ]
  },
  {
   "cell_type": "code",
   "execution_count": 20,
   "metadata": {},
   "outputs": [
    {
     "data": {
      "text/plain": [
       "{'raw_text': '   d q    hablas   ',\n",
       " 'urls': [],\n",
       " 'successions': {'begin': None, 'end': None},\n",
       " 'users': [],\n",
       " '#s': [],\n",
       " 'emojis': [],\n",
       " 'exclams': 0,\n",
       " 'questions': 0,\n",
       " 'stops': 0,\n",
       " 'elongateds': 0,\n",
       " 'capitalized': [],\n",
       " 'numbers': {'dates': [], 'years': [], 'prices': [], 'other': []},\n",
       " 'punctuation': [],\n",
       " 'text': 'd q    hablas'}"
      ]
     },
     "execution_count": 20,
     "metadata": {},
     "output_type": "execute_result"
    }
   ],
   "source": [
    "# single character removal covered by removeStopWords\n",
    "# multiple spaces removal too\n",
    "text = '   d q    hablas   '\n",
    "\n",
    "preprocesser = M.PreProcesser()\n",
    "#preprocesser = M.ES_PreProcesser()\n",
    "preprocesser(text)"
   ]
  },
  {
   "cell_type": "code",
   "execution_count": 19,
   "metadata": {},
   "outputs": [
    {
     "data": {
      "text/plain": [
       "{'raw_text': 'a b c; d e f: g h y j k l m n o ,p q r s t .u v w x y z',\n",
       " 'urls': [],\n",
       " 'successions': {'begin': None, 'end': None},\n",
       " 'users': [],\n",
       " '#s': [],\n",
       " 'emojis': [],\n",
       " 'exclams': 0,\n",
       " 'questions': 0,\n",
       " 'stops': 0,\n",
       " 'elongateds': 0,\n",
       " 'capitalized': [],\n",
       " 'numbers': {'dates': [], 'years': [], 'prices': [], 'other': []},\n",
       " 'punctuation': [';', ':', ',', '.'],\n",
       " 'text': 'a b c  d e f  g h y j k l m n o  p q r s t  u v w x y z'}"
      ]
     },
     "execution_count": 19,
     "metadata": {},
     "output_type": "execute_result"
    }
   ],
   "source": [
    "text = 'a b c; d e f: g h y j k l m n o ,p q r s t .u v w x y z'\n",
    "\n",
    "preprocesser = M.PreProcesser()\n",
    "#preprocesser = M.ES_PreProcesser()\n",
    "preprocesser(text)"
   ]
  },
  {
   "cell_type": "code",
   "execution_count": null,
   "metadata": {},
   "outputs": [],
   "source": []
  }
 ],
 "metadata": {
  "kernelspec": {
   "display_name": "ds-preprocessing",
   "language": "python",
   "name": "python3"
  },
  "language_info": {
   "codemirror_mode": {
    "name": "ipython",
    "version": 3
   },
   "file_extension": ".py",
   "mimetype": "text/x-python",
   "name": "python",
   "nbconvert_exporter": "python",
   "pygments_lexer": "ipython3",
   "version": "3.10.13"
  },
  "orig_nbformat": 4
 },
 "nbformat": 4,
 "nbformat_minor": 2
}
