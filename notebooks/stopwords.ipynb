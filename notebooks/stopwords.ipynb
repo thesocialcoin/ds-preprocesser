{
 "cells": [
  {
   "cell_type": "code",
   "execution_count": 1,
   "metadata": {},
   "outputs": [],
   "source": [
    "import os\n",
    "from os.path import join, dirname\n",
    "import pandas as pd\n",
    "\n",
    "os.sys.path.append(join(dirname(os.getcwd()), 'src'))\n"
   ]
  },
  {
   "cell_type": "code",
   "execution_count": 2,
   "metadata": {},
   "outputs": [
    {
     "data": {
      "text/plain": [
       "'/Users/wilberquito/Citibeats/ds-preprocessing/src'"
      ]
     },
     "execution_count": 2,
     "metadata": {},
     "output_type": "execute_result"
    }
   ],
   "source": [
    "join(dirname(os.getcwd()), 'src')"
   ]
  },
  {
   "cell_type": "code",
   "execution_count": 3,
   "metadata": {},
   "outputs": [],
   "source": [
    "import preprocesser.models.preprocessing as P"
   ]
  },
  {
   "cell_type": "code",
   "execution_count": 4,
   "metadata": {},
   "outputs": [
    {
     "data": {
      "text/plain": [
       "('el sol brilla', {'stopwords': {}})"
      ]
     },
     "execution_count": 4,
     "metadata": {},
     "output_type": "execute_result"
    }
   ],
   "source": [
    "text = \"el sol brilla\"\n",
    "# text = \"the sun shines\"\n",
    "P.removeStopWords(text, 'en')"
   ]
  },
  {
   "cell_type": "code",
   "execution_count": 5,
   "metadata": {},
   "outputs": [
    {
     "ename": "TypeError",
     "evalue": "PreProcesser.__init__() got an unexpected keyword argument 'remove_stopwords'",
     "output_type": "error",
     "traceback": [
      "\u001b[0;31m---------------------------------------------------------------------------\u001b[0m",
      "\u001b[0;31mTypeError\u001b[0m                                 Traceback (most recent call last)",
      "\u001b[1;32m/Users/wilberquito/Citibeats/ds-preprocessing/notebooks/stopwords.ipynb Cell 5\u001b[0m line \u001b[0;36m2\n\u001b[1;32m      <a href='vscode-notebook-cell:/Users/wilberquito/Citibeats/ds-preprocessing/notebooks/stopwords.ipynb#X14sZmlsZQ%3D%3D?line=0'>1</a>\u001b[0m text \u001b[39m=\u001b[39m \u001b[39m\"\u001b[39m\u001b[39mthe sun shines\u001b[39m\u001b[39m\"\u001b[39m\n\u001b[0;32m----> <a href='vscode-notebook-cell:/Users/wilberquito/Citibeats/ds-preprocessing/notebooks/stopwords.ipynb#X14sZmlsZQ%3D%3D?line=1'>2</a>\u001b[0m preprocesser \u001b[39m=\u001b[39m P\u001b[39m.\u001b[39;49mEN_PreProcesser({\u001b[39m\"\u001b[39;49m\u001b[39mremove_stopwords\u001b[39;49m\u001b[39m\"\u001b[39;49m: \u001b[39mFalse\u001b[39;49;00m})\n\u001b[1;32m      <a href='vscode-notebook-cell:/Users/wilberquito/Citibeats/ds-preprocessing/notebooks/stopwords.ipynb#X14sZmlsZQ%3D%3D?line=2'>3</a>\u001b[0m preprocesser(text)\n",
      "File \u001b[0;32m~/Citibeats/ds-preprocessing/src/preprocesser/models/preprocessing.py:125\u001b[0m, in \u001b[0;36mEN_PreProcesser.__init__\u001b[0;34m(self, args)\u001b[0m\n\u001b[1;32m    123\u001b[0m \u001b[39mdef\u001b[39;00m \u001b[39m__init__\u001b[39m(\u001b[39mself\u001b[39m, args: Optional[Dict[\u001b[39mstr\u001b[39m, Any]] \u001b[39m=\u001b[39m \u001b[39mNone\u001b[39;00m):\n\u001b[1;32m    124\u001b[0m     args_ \u001b[39m=\u001b[39m args \u001b[39mif\u001b[39;00m args \u001b[39melse\u001b[39;00m {}\n\u001b[0;32m--> 125\u001b[0m     \u001b[39msuper\u001b[39;49m()\u001b[39m.\u001b[39;49m\u001b[39m__init__\u001b[39;49m(\u001b[39m*\u001b[39;49m\u001b[39m*\u001b[39;49margs_)\n",
      "\u001b[0;31mTypeError\u001b[0m: PreProcesser.__init__() got an unexpected keyword argument 'remove_stopwords'"
     ]
    }
   ],
   "source": [
    "text = \"the sun shines\"\n",
    "preprocesser = P.EN_PreProcesser({\"remove_stopwords\": False})\n",
    "preprocesser(text)"
   ]
  },
  {
   "cell_type": "code",
   "execution_count": null,
   "metadata": {},
   "outputs": [],
   "source": []
  }
 ],
 "metadata": {
  "kernelspec": {
   "display_name": "ds-preprocessing",
   "language": "python",
   "name": "python3"
  },
  "language_info": {
   "codemirror_mode": {
    "name": "ipython",
    "version": 3
   },
   "file_extension": ".py",
   "mimetype": "text/x-python",
   "name": "python",
   "nbconvert_exporter": "python",
   "pygments_lexer": "ipython3",
   "version": "3.10.13"
  },
  "orig_nbformat": 4
 },
 "nbformat": 4,
 "nbformat_minor": 2
}
