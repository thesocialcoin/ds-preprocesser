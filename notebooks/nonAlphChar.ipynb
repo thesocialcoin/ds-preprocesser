{
 "cells": [
  {
   "cell_type": "code",
   "execution_count": 1,
   "metadata": {},
   "outputs": [],
   "source": [
    "import os\n",
    "from os.path import join, dirname\n",
    "\n",
    "os.sys.path.append(join(dirname(os.getcwd()), 'src'))"
   ]
  },
  {
   "cell_type": "code",
   "execution_count": 6,
   "metadata": {},
   "outputs": [
    {
     "data": {
      "text/plain": [
       "'some random text with trend term nlozano odelgado mribera whitebear http random url https hello com'"
      ]
     },
     "execution_count": 6,
     "metadata": {},
     "output_type": "execute_result"
    }
   ],
   "source": [
    "from preprocesser.models import removeNonAlphChar\n",
    "\n",
    "text = \"some random text!, with trend term @nlozano @odelgado @mribera #whitebear http://random.url https://hello.com ?\"\n",
    "removeNonAlphChar(text)"
   ]
  },
  {
   "cell_type": "code",
   "execution_count": 7,
   "metadata": {},
   "outputs": [
    {
     "data": {
      "text/plain": [
       "{'raw_text': 'some random text!, with trend term @nlozano @odelgado @mribera #whitebear http://random.url https://hello.com ?',\n",
       " 'urls': ['http://random.url', 'https://hello.com'],\n",
       " 'successions': {'begin': None, 'end': None},\n",
       " 'users': ['@nlozano', '@odelgado', '@mribera'],\n",
       " 'tags': ['#whitebear'],\n",
       " '#s': [],\n",
       " 'emojis': [],\n",
       " 'exclams': 0,\n",
       " 'questions': 0,\n",
       " 'stops': 0,\n",
       " 'elongateds': 0,\n",
       " 'numbers': {'dates': [], 'years': [], 'prices': [], 'other': []},\n",
       " 'text': 'random trend term',\n",
       " 'stopwords': {'some': 1, 'text': 1, 'with': 1}}"
      ]
     },
     "execution_count": 7,
     "metadata": {},
     "output_type": "execute_result"
    }
   ],
   "source": [
    "from preprocesser.models import EN_PreProcesser\n",
    "p = EN_PreProcesser({ \"remove_non_alph_char\": True })\n",
    "p(text)"
   ]
  },
  {
   "cell_type": "code",
   "execution_count": 8,
   "metadata": {},
   "outputs": [
    {
     "data": {
      "text/plain": [
       "{'raw_text': 'some random text!, with trend term @nlozano @odelgado @mribera #whitebear http://random.url https://hello.com ?',\n",
       " 'urls': ['http://random.url', 'https://hello.com'],\n",
       " 'successions': {'begin': None, 'end': None},\n",
       " 'users': ['@nlozano', '@odelgado', '@mribera'],\n",
       " 'tags': ['#whitebear'],\n",
       " '#s': [],\n",
       " 'emojis': [],\n",
       " 'exclams': 0,\n",
       " 'questions': 0,\n",
       " 'stops': 0,\n",
       " 'elongateds': 0,\n",
       " 'numbers': {'dates': [], 'years': [], 'prices': [], 'other': []},\n",
       " 'text': 'random text!, trend term ?',\n",
       " 'stopwords': {'some': 1, 'with': 1}}"
      ]
     },
     "execution_count": 8,
     "metadata": {},
     "output_type": "execute_result"
    }
   ],
   "source": [
    "from preprocesser.models import EN_PreProcesser\n",
    "p = EN_PreProcesser({ \"remove_non_alph_char\": False })\n",
    "p(text)"
   ]
  }
 ],
 "metadata": {
  "kernelspec": {
   "display_name": "ds-preprocessing",
   "language": "python",
   "name": "python3"
  },
  "language_info": {
   "codemirror_mode": {
    "name": "ipython",
    "version": 3
   },
   "file_extension": ".py",
   "mimetype": "text/x-python",
   "name": "python",
   "nbconvert_exporter": "python",
   "pygments_lexer": "ipython3",
   "version": "3.10.13"
  }
 },
 "nbformat": 4,
 "nbformat_minor": 2
}
