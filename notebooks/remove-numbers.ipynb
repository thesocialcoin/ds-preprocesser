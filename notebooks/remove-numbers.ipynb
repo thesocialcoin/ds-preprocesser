{
 "cells": [
  {
   "cell_type": "code",
   "execution_count": 1,
   "metadata": {},
   "outputs": [],
   "source": [
    "import os\n",
    "from os.path import join, dirname\n",
    "import pandas as pd\n",
    "\n",
    "os.sys.path.append(join(dirname(os.getcwd()), 'src'))"
   ]
  },
  {
   "cell_type": "code",
   "execution_count": 2,
   "metadata": {},
   "outputs": [
    {
     "data": {
      "text/plain": [
       "('fecha de hoy DATEMENTION',\n",
       " {'dates': ['01 Oct 2023'], 'years': [], 'prices': [], 'other': []})"
      ]
     },
     "execution_count": 2,
     "metadata": {},
     "output_type": "execute_result"
    }
   ],
   "source": [
    "from preprocesser.models import removeNumbers\n",
    "s = \"fecha de hoy 01 Oct 2023\"\n",
    "removeNumbers(s, use_placeholder=True)"
   ]
  },
  {
   "cell_type": "code",
   "execution_count": 3,
   "metadata": {},
   "outputs": [
    {
     "data": {
      "text/plain": [
       "(' hola , adios , ',\n",
       " {'dates': ['01 Oct 2023'],\n",
       "  'years': ['2023'],\n",
       "  'prices': ['10€'],\n",
       "  'other': ['10']})"
      ]
     },
     "execution_count": 3,
     "metadata": {},
     "output_type": "execute_result"
    }
   ],
   "source": [
    "from preprocesser.models import removeNumbers\n",
    "s = \"01 Oct 2023 hola 10, adios 10€, 2023\"\n",
    "removeNumbers(s, use_placeholder=False)"
   ]
  },
  {
   "cell_type": "code",
   "execution_count": 4,
   "metadata": {},
   "outputs": [
    {
     "data": {
      "text/plain": [
       "('DATEMENTION hola NUM, adios PRICEMENTION, YYYY',\n",
       " {'dates': ['01 Oct 2023'],\n",
       "  'years': ['2023'],\n",
       "  'prices': ['10€'],\n",
       "  'other': ['10']})"
      ]
     },
     "execution_count": 4,
     "metadata": {},
     "output_type": "execute_result"
    }
   ],
   "source": [
    "from preprocesser.models import removeNumbers\n",
    "s = \"01 Oct 2023 hola 10, adios 10€, 2023\"\n",
    "removeNumbers(s, use_placeholder=True)"
   ]
  },
  {
   "cell_type": "code",
   "execution_count": 5,
   "metadata": {},
   "outputs": [
    {
     "data": {
      "text/plain": [
       "{'raw_text': '01 Oct 2023 hola 10, adios 10€, 2023',\n",
       " 'urls': [],\n",
       " 'successions': {'begin': None, 'end': None},\n",
       " 'users': [],\n",
       " 'tags': [],\n",
       " '#s': [],\n",
       " 'emojis': [],\n",
       " 'exclams': 0,\n",
       " 'questions': 0,\n",
       " 'stops': 0,\n",
       " 'elongateds': 0,\n",
       " 'numbers': {'dates': ['01 oct 2023'],\n",
       "  'years': ['2023'],\n",
       "  'prices': ['10€'],\n",
       "  'other': ['10']},\n",
       " 'text': 'hola , adios ,'}"
      ]
     },
     "execution_count": 5,
     "metadata": {},
     "output_type": "execute_result"
    }
   ],
   "source": [
    "from preprocesser.models import PreProcesser\n",
    "p = PreProcesser()\n",
    "p(s)"
   ]
  }
 ],
 "metadata": {
  "kernelspec": {
   "display_name": "ds-preprocessing",
   "language": "python",
   "name": "python3"
  },
  "language_info": {
   "codemirror_mode": {
    "name": "ipython",
    "version": 3
   },
   "file_extension": ".py",
   "mimetype": "text/x-python",
   "name": "python",
   "nbconvert_exporter": "python",
   "pygments_lexer": "ipython3",
   "version": "3.10.13"
  }
 },
 "nbformat": 4,
 "nbformat_minor": 2
}
