{
 "cells": [
  {
   "cell_type": "code",
   "execution_count": 13,
   "metadata": {},
   "outputs": [],
   "source": [
    "import os\n",
    "from os.path import join, dirname\n",
    "import pandas as pd\n",
    "\n",
    "os.sys.path.append(join(dirname(os.getcwd()), 'src'))"
   ]
  },
  {
   "cell_type": "code",
   "execution_count": 14,
   "metadata": {},
   "outputs": [
    {
     "data": {
      "text/plain": [
       "('some random text with trend term @nlozano @odelgado @mribera #whitebear  ',\n",
       " {'urls': ['https://random.url', 'http://hello.com']})"
      ]
     },
     "execution_count": 14,
     "metadata": {},
     "output_type": "execute_result"
    }
   ],
   "source": [
    "from preprocesser.models import removeUrls\n",
    "\n",
    "text = \"some random text with trend term @nlozano @odelgado @mribera #whitebear https://random.url http://hello.com\"\n",
    "removeUrls(text, use_placeholder=False)"
   ]
  },
  {
   "cell_type": "code",
   "execution_count": 15,
   "metadata": {},
   "outputs": [
    {
     "data": {
      "text/plain": [
       "('some random text with trend term @nlozano @odelgado @mribera #whitebear URL URL',\n",
       " {'urls': ['http://random.url', 'https://hello.com']})"
      ]
     },
     "execution_count": 15,
     "metadata": {},
     "output_type": "execute_result"
    }
   ],
   "source": [
    "from preprocesser.models import removeUrls\n",
    "\n",
    "text = \"some random text with trend term @nlozano @odelgado @mribera #whitebear http://random.url https://hello.com\"\n",
    "removeUrls(text)"
   ]
  },
  {
   "cell_type": "code",
   "execution_count": 16,
   "metadata": {},
   "outputs": [
    {
     "data": {
      "text/plain": [
       "('some random text with trend term    #whitebear http://random.url https://hello.com',\n",
       " {'users': ['@nlozano', '@odelgado', '@mribera']})"
      ]
     },
     "execution_count": 16,
     "metadata": {},
     "output_type": "execute_result"
    }
   ],
   "source": [
    "from preprocesser.models import replaceAtUser\n",
    "\n",
    "text = \"some random text with trend term @nlozano @odelgado @mribera #whitebear http://random.url https://hello.com\"\n",
    "replaceAtUser(text)"
   ]
  },
  {
   "cell_type": "code",
   "execution_count": 17,
   "metadata": {},
   "outputs": [
    {
     "data": {
      "text/plain": [
       "('some random text with trend term    #whitebear http://random.url https://hello.com',\n",
       " {'users': ['@nlozano', '@odelgado', '@mribera']})"
      ]
     },
     "execution_count": 17,
     "metadata": {},
     "output_type": "execute_result"
    }
   ],
   "source": [
    "from preprocesser.models import replaceAtUser\n",
    "\n",
    "text = \"some random text with trend term @nlozano @odelgado @mribera #whitebear http://random.url https://hello.com\"\n",
    "replaceAtUser(text, use_placeholder=False)"
   ]
  },
  {
   "cell_type": "code",
   "execution_count": 18,
   "metadata": {},
   "outputs": [
    {
     "data": {
      "text/plain": [
       "('some random text with trend term @nlozano @odelgado @mribera TAG http://random.url https://hello.com',\n",
       " {'tags': ['#whitebear']})"
      ]
     },
     "execution_count": 18,
     "metadata": {},
     "output_type": "execute_result"
    }
   ],
   "source": [
    "from preprocesser.models import removeTags\n",
    "\n",
    "text = \"some random text with trend term @nlozano @odelgado @mribera #whitebear http://random.url https://hello.com\"\n",
    "removeTags(text)"
   ]
  },
  {
   "cell_type": "code",
   "execution_count": 19,
   "metadata": {},
   "outputs": [
    {
     "data": {
      "text/plain": [
       "{'raw_text': 'some random text with trend term @nlozano @odelgado @mribera #whitebear http://random.url https://hello.com',\n",
       " 'urls': ['http://random.url', 'https://hello.com'],\n",
       " 'successions': {'begin': None, 'end': None},\n",
       " 'users': ['@nlozano', '@odelgado', '@mribera'],\n",
       " 'tags': ['#whitebear'],\n",
       " '#s': [],\n",
       " 'emojis': [],\n",
       " 'exclams': 0,\n",
       " 'questions': 0,\n",
       " 'stops': 0,\n",
       " 'elongateds': 0,\n",
       " 'numbers': {'dates': [], 'years': [], 'prices': [], 'other': []},\n",
       " 'text': 'random trend term',\n",
       " 'stopwords': {'some': 1, 'text': 1, 'with': 1}}"
      ]
     },
     "execution_count": 19,
     "metadata": {},
     "output_type": "execute_result"
    }
   ],
   "source": [
    "from preprocesser.models import EN_PreProcesser\n",
    "p = EN_PreProcesser()\n",
    "p(text)"
   ]
  },
  {
   "cell_type": "code",
   "execution_count": 20,
   "metadata": {},
   "outputs": [
    {
     "data": {
      "text/plain": [
       "{'raw_text': 'some random text with trend term @nlozano @odelgado @mribera #whitebear http://random.url https://hello.com',\n",
       " 'urls': ['http://random.url', 'https://hello.com'],\n",
       " 'successions': {'begin': None, 'end': None},\n",
       " 'users': ['@nlozano', '@odelgado', '@mribera'],\n",
       " 'tags': ['#whitebear'],\n",
       " '#s': [],\n",
       " 'emojis': [],\n",
       " 'exclams': 0,\n",
       " 'questions': 0,\n",
       " 'stops': 0,\n",
       " 'elongateds': 0,\n",
       " 'numbers': {'dates': [], 'years': [], 'prices': [], 'other': []},\n",
       " 'text': 'random trend term atUser atUser atUser TAG URL URL',\n",
       " 'stopwords': {'some': 1, 'text': 1, 'with': 1}}"
      ]
     },
     "execution_count": 20,
     "metadata": {},
     "output_type": "execute_result"
    }
   ],
   "source": [
    "from preprocesser.models import EN_PreProcesser\n",
    "p = EN_PreProcesser({ \"use_placeholder\": True })\n",
    "p(text)"
   ]
  },
  {
   "cell_type": "code",
   "execution_count": 21,
   "metadata": {},
   "outputs": [
    {
     "data": {
      "text/plain": [
       "{'raw_text': 'some random text with trend term @nlozano @odelgado @mribera #whitebear http://random.url https://hello.com',\n",
       " 'urls': ['http://random.url', 'https://hello.com'],\n",
       " 'successions': {'begin': None, 'end': None},\n",
       " 'users': ['@nlozano', '@odelgado', '@mribera'],\n",
       " 'tags': ['#whitebear'],\n",
       " '#s': [],\n",
       " 'emojis': [],\n",
       " 'exclams': 0,\n",
       " 'questions': 0,\n",
       " 'stops': 0,\n",
       " 'elongateds': 0,\n",
       " 'numbers': {'dates': [], 'years': [], 'prices': [], 'other': []},\n",
       " 'text': 'some random text with trend term'}"
      ]
     },
     "execution_count": 21,
     "metadata": {},
     "output_type": "execute_result"
    }
   ],
   "source": [
    "from preprocesser.models import PreProcesser\n",
    "p = PreProcesser()\n",
    "p(text)"
   ]
  },
  {
   "cell_type": "code",
   "execution_count": 22,
   "metadata": {},
   "outputs": [
    {
     "data": {
      "text/plain": [
       "{'raw_text': 'some random text with trend term @nlozano @odelgado @mribera #whitebear http://random.url https://hello.com',\n",
       " 'urls': ['http://random.url', 'https://hello.com'],\n",
       " 'successions': {'begin': None, 'end': None},\n",
       " 'users': ['@nlozano', '@odelgado', '@mribera'],\n",
       " 'tags': ['#whitebear'],\n",
       " '#s': [],\n",
       " 'emojis': [],\n",
       " 'exclams': 0,\n",
       " 'questions': 0,\n",
       " 'stops': 0,\n",
       " 'elongateds': 0,\n",
       " 'numbers': {'dates': [], 'years': [], 'prices': [], 'other': []},\n",
       " 'text': 'some random text with trend term atUser atUser atUser TAG URL URL'}"
      ]
     },
     "execution_count": 22,
     "metadata": {},
     "output_type": "execute_result"
    }
   ],
   "source": [
    "from preprocesser.models import PreProcesser\n",
    "p = PreProcesser(use_placeholder=True)\n",
    "p(text)"
   ]
  },
  {
   "cell_type": "code",
   "execution_count": 30,
   "metadata": {},
   "outputs": [
    {
     "data": {
      "text/plain": [
       "'buenos días 💖'"
      ]
     },
     "execution_count": 30,
     "metadata": {},
     "output_type": "execute_result"
    }
   ],
   "source": [
    "import emoji\n",
    "\n",
    "text = emoji.emojize('buenos días :sparkling_heart:')\n",
    "text"
   ]
  },
  {
   "cell_type": "code",
   "execution_count": 31,
   "metadata": {},
   "outputs": [
    {
     "data": {
      "text/plain": [
       "{'raw_text': 'buenos días 💖',\n",
       " 'urls': [],\n",
       " 'successions': {'begin': None, 'end': None},\n",
       " 'users': [],\n",
       " 'tags': [],\n",
       " '#s': [],\n",
       " 'emojis': ['💖'],\n",
       " 'exclams': 0,\n",
       " 'questions': 0,\n",
       " 'stops': 0,\n",
       " 'elongateds': 0,\n",
       " 'numbers': {'dates': [], 'years': [], 'prices': [], 'other': []},\n",
       " 'text': 'buenos días'}"
      ]
     },
     "execution_count": 31,
     "metadata": {},
     "output_type": "execute_result"
    }
   ],
   "source": [
    "p = PreProcesser()\n",
    "p(text)"
   ]
  },
  {
   "cell_type": "code",
   "execution_count": 32,
   "metadata": {},
   "outputs": [
    {
     "data": {
      "text/plain": [
       "{'raw_text': 'buenos días 💖',\n",
       " 'urls': [],\n",
       " 'successions': {'begin': None, 'end': None},\n",
       " 'users': [],\n",
       " 'tags': [],\n",
       " '#s': [],\n",
       " 'emojis': ['💖'],\n",
       " 'exclams': 0,\n",
       " 'questions': 0,\n",
       " 'stops': 0,\n",
       " 'elongateds': 0,\n",
       " 'numbers': {'dates': [], 'years': [], 'prices': [], 'other': []},\n",
       " 'text': 'buenos días EMOJI'}"
      ]
     },
     "execution_count": 32,
     "metadata": {},
     "output_type": "execute_result"
    }
   ],
   "source": [
    "p = PreProcesser(use_placeholder=True)\n",
    "p(text)"
   ]
  },
  {
   "cell_type": "code",
   "execution_count": 33,
   "metadata": {},
   "outputs": [
    {
     "data": {
      "text/plain": [
       "('buenos días ', {'emojis': ['💖']})"
      ]
     },
     "execution_count": 33,
     "metadata": {},
     "output_type": "execute_result"
    }
   ],
   "source": [
    "from preprocesser.models import removeEmojis\n",
    "\n",
    "text = emoji.emojize('buenos días :sparkling_heart:')\n",
    "removeEmojis(text, use_placeholder=False)"
   ]
  },
  {
   "cell_type": "code",
   "execution_count": null,
   "metadata": {},
   "outputs": [],
   "source": []
  }
 ],
 "metadata": {
  "kernelspec": {
   "display_name": "ds-preprocessing",
   "language": "python",
   "name": "python3"
  },
  "language_info": {
   "codemirror_mode": {
    "name": "ipython",
    "version": 3
   },
   "file_extension": ".py",
   "mimetype": "text/x-python",
   "name": "python",
   "nbconvert_exporter": "python",
   "pygments_lexer": "ipython3",
   "version": "3.10.13"
  }
 },
 "nbformat": 4,
 "nbformat_minor": 2
}
