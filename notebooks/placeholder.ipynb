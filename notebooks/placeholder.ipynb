{
 "cells": [
  {
   "cell_type": "code",
   "execution_count": 1,
   "metadata": {},
   "outputs": [],
   "source": [
    "import os\n",
    "from os.path import join, dirname\n",
    "import pandas as pd\n",
    "\n",
    "os.sys.path.append(join(dirname(os.getcwd()), 'src'))"
   ]
  },
  {
   "cell_type": "code",
   "execution_count": 2,
   "metadata": {},
   "outputs": [
    {
     "data": {
      "text/plain": [
       "('some random text with trend term @nlozano @odelgado @mribera #whitebear  ',\n",
       " {'urls': ['https://random.url', 'http://hello.com']})"
      ]
     },
     "execution_count": 2,
     "metadata": {},
     "output_type": "execute_result"
    }
   ],
   "source": [
    "from preprocesser.models import removeUrls\n",
    "\n",
    "text = \"some random text with trend term @nlozano @odelgado @mribera #whitebear https://random.url http://hello.com\"\n",
    "removeUrls(text, use_placeholder=False)"
   ]
  },
  {
   "cell_type": "code",
   "execution_count": 3,
   "metadata": {},
   "outputs": [
    {
     "data": {
      "text/plain": [
       "('some random text with trend term @nlozano @odelgado @mribera #whitebear URL URL',\n",
       " {'urls': ['http://random.url', 'https://hello.com']})"
      ]
     },
     "execution_count": 3,
     "metadata": {},
     "output_type": "execute_result"
    }
   ],
   "source": [
    "from preprocesser.models import removeUrls\n",
    "\n",
    "text = \"some random text with trend term @nlozano @odelgado @mribera #whitebear http://random.url https://hello.com\"\n",
    "removeUrls(text)"
   ]
  },
  {
   "cell_type": "code",
   "execution_count": 4,
   "metadata": {},
   "outputs": [
    {
     "data": {
      "text/plain": [
       "('some random text with trend term    #whitebear http://random.url https://hello.com',\n",
       " {'users': ['@nlozano', '@odelgado', '@mribera']})"
      ]
     },
     "execution_count": 4,
     "metadata": {},
     "output_type": "execute_result"
    }
   ],
   "source": [
    "from preprocesser.models import replaceAtUser\n",
    "\n",
    "text = \"some random text with trend term @nlozano @odelgado @mribera #whitebear http://random.url https://hello.com\"\n",
    "replaceAtUser(text)"
   ]
  },
  {
   "cell_type": "code",
   "execution_count": 5,
   "metadata": {},
   "outputs": [
    {
     "data": {
      "text/plain": [
       "('some random text with trend term    #whitebear http://random.url https://hello.com',\n",
       " {'users': ['@nlozano', '@odelgado', '@mribera']})"
      ]
     },
     "execution_count": 5,
     "metadata": {},
     "output_type": "execute_result"
    }
   ],
   "source": [
    "from preprocesser.models import replaceAtUser\n",
    "\n",
    "text = \"some random text with trend term @nlozano @odelgado @mribera #whitebear http://random.url https://hello.com\"\n",
    "replaceAtUser(text, use_placeholder=False)"
   ]
  },
  {
   "cell_type": "code",
   "execution_count": 6,
   "metadata": {},
   "outputs": [
    {
     "data": {
      "text/plain": [
       "('some random text with trend term @nlozano @odelgado @mribera TAG http://random.url https://hello.com',\n",
       " {'tags': ['#whitebear']})"
      ]
     },
     "execution_count": 6,
     "metadata": {},
     "output_type": "execute_result"
    }
   ],
   "source": [
    "from preprocesser.models import removeTags\n",
    "\n",
    "text = \"some random text with trend term @nlozano @odelgado @mribera #whitebear http://random.url https://hello.com\"\n",
    "removeTags(text)"
   ]
  },
  {
   "cell_type": "code",
   "execution_count": 7,
   "metadata": {},
   "outputs": [
    {
     "data": {
      "text/plain": [
       "{'raw_text': 'some random text with trend term @nlozano @odelgado @mribera #whitebear http://random.url https://hello.com',\n",
       " 'urls': ['http://random.url', 'https://hello.com'],\n",
       " 'successions': {'begin': None, 'end': None},\n",
       " 'users': ['@nlozano', '@odelgado', '@mribera'],\n",
       " 'tags': ['#whitebear'],\n",
       " '#s': [],\n",
       " 'emojis': [],\n",
       " 'exclams': 0,\n",
       " 'questions': 0,\n",
       " 'stops': 0,\n",
       " 'elongateds': 0,\n",
       " 'numbers': {'dates': [], 'years': [], 'prices': [], 'other': []},\n",
       " 'text': 'random trend term',\n",
       " 'stopwords': {'some': 1, 'text': 1, 'with': 1}}"
      ]
     },
     "execution_count": 7,
     "metadata": {},
     "output_type": "execute_result"
    }
   ],
   "source": [
    "from preprocesser.models import EN_PreProcesser\n",
    "p = EN_PreProcesser()\n",
    "p(text)"
   ]
  },
  {
   "cell_type": "code",
   "execution_count": 8,
   "metadata": {},
   "outputs": [
    {
     "data": {
      "text/plain": [
       "{'raw_text': 'some random text with trend term @nlozano @odelgado @mribera #whitebear http://random.url https://hello.com',\n",
       " 'urls': ['http://random.url', 'https://hello.com'],\n",
       " 'successions': {'begin': None, 'end': None},\n",
       " 'users': ['@nlozano', '@odelgado', '@mribera'],\n",
       " 'tags': ['#whitebear'],\n",
       " '#s': [],\n",
       " 'emojis': [],\n",
       " 'exclams': 0,\n",
       " 'questions': 0,\n",
       " 'stops': 0,\n",
       " 'elongateds': 0,\n",
       " 'numbers': {'dates': [], 'years': [], 'prices': [], 'other': []},\n",
       " 'text': 'random trend term atUser atUser atUser TAG URL URL',\n",
       " 'stopwords': {'some': 1, 'text': 1, 'with': 1}}"
      ]
     },
     "execution_count": 8,
     "metadata": {},
     "output_type": "execute_result"
    }
   ],
   "source": [
    "from preprocesser.models import EN_PreProcesser\n",
    "p = EN_PreProcesser({ \"use_placeholder\": True })\n",
    "p(text)"
   ]
  },
  {
   "cell_type": "code",
   "execution_count": 9,
   "metadata": {},
   "outputs": [
    {
     "data": {
      "text/plain": [
       "{'raw_text': 'some random text with trend term @nlozano @odelgado @mribera #whitebear http://random.url https://hello.com',\n",
       " 'urls': ['http://random.url', 'https://hello.com'],\n",
       " 'successions': {'begin': None, 'end': None},\n",
       " 'users': ['@nlozano', '@odelgado', '@mribera'],\n",
       " 'tags': ['#whitebear'],\n",
       " '#s': [],\n",
       " 'emojis': [],\n",
       " 'exclams': 0,\n",
       " 'questions': 0,\n",
       " 'stops': 0,\n",
       " 'elongateds': 0,\n",
       " 'numbers': {'dates': [], 'years': [], 'prices': [], 'other': []},\n",
       " 'text': 'some random text with trend term'}"
      ]
     },
     "execution_count": 9,
     "metadata": {},
     "output_type": "execute_result"
    }
   ],
   "source": [
    "from preprocesser.models import PreProcesser\n",
    "p = PreProcesser()\n",
    "p(text)"
   ]
  },
  {
   "cell_type": "code",
   "execution_count": 10,
   "metadata": {},
   "outputs": [
    {
     "data": {
      "text/plain": [
       "{'raw_text': 'some random text with trend term @nlozano @odelgado @mribera #whitebear http://random.url https://hello.com',\n",
       " 'urls': ['http://random.url', 'https://hello.com'],\n",
       " 'successions': {'begin': None, 'end': None},\n",
       " 'users': ['@nlozano', '@odelgado', '@mribera'],\n",
       " 'tags': ['#whitebear'],\n",
       " '#s': [],\n",
       " 'emojis': [],\n",
       " 'exclams': 0,\n",
       " 'questions': 0,\n",
       " 'stops': 0,\n",
       " 'elongateds': 0,\n",
       " 'numbers': {'dates': [], 'years': [], 'prices': [], 'other': []},\n",
       " 'text': 'some random text with trend term atUser atUser atUser TAG URL URL'}"
      ]
     },
     "execution_count": 10,
     "metadata": {},
     "output_type": "execute_result"
    }
   ],
   "source": [
    "from preprocesser.models import PreProcesser\n",
    "p = PreProcesser(use_placeholder=True)\n",
    "p(text)"
   ]
  },
  {
   "cell_type": "code",
   "execution_count": 11,
   "metadata": {},
   "outputs": [
    {
     "name": "stdout",
     "output_type": "stream",
     "text": [
      "Requirement already satisfied: emoji in /Users/annasenent/anaconda3/envs/ds-preprocessing/lib/python3.10/site-packages (2.8.0)\n"
     ]
    }
   ],
   "source": [
    "!pip install emoji"
   ]
  },
  {
   "cell_type": "code",
   "execution_count": 12,
   "metadata": {},
   "outputs": [
    {
     "data": {
      "text/plain": [
       "{'raw_text': 'buenos días 💖',\n",
       " 'urls': [],\n",
       " 'successions': {'begin': None, 'end': None},\n",
       " 'users': [],\n",
       " 'tags': [],\n",
       " '#s': [],\n",
       " 'emojis': ['💖'],\n",
       " 'exclams': 0,\n",
       " 'questions': 0,\n",
       " 'stops': 0,\n",
       " 'elongateds': 0,\n",
       " 'numbers': {'dates': [], 'years': [], 'prices': [], 'other': []},\n",
       " 'text': 'buenos días EMOJI'}"
      ]
     },
     "execution_count": 12,
     "metadata": {},
     "output_type": "execute_result"
    }
   ],
   "source": [
    "import emoji\n",
    "\n",
    "text = emoji.emojize('buenos días :sparkling_heart:')\n",
    "p = PreProcesser(text)\n",
    "p(text)"
   ]
  },
  {
   "cell_type": "code",
   "execution_count": 13,
   "metadata": {},
   "outputs": [
    {
     "data": {
      "text/plain": [
       "('buenos días ', {'emojis': ['💖']})"
      ]
     },
     "execution_count": 13,
     "metadata": {},
     "output_type": "execute_result"
    }
   ],
   "source": [
    "from preprocesser.models import removeEmojis\n",
    "\n",
    "text = emoji.emojize('buenos días :sparkling_heart:')\n",
    "removeEmojis(text, use_placeholder=False)"
   ]
  },
  {
   "cell_type": "code",
   "execution_count": null,
   "metadata": {},
   "outputs": [],
   "source": []
  }
 ],
 "metadata": {
  "kernelspec": {
   "display_name": "ds-preprocessing",
   "language": "python",
   "name": "python3"
  },
  "language_info": {
   "codemirror_mode": {
    "name": "ipython",
    "version": 3
   },
   "file_extension": ".py",
   "mimetype": "text/x-python",
   "name": "python",
   "nbconvert_exporter": "python",
   "pygments_lexer": "ipython3",
   "version": "3.10.13"
  }
 },
 "nbformat": 4,
 "nbformat_minor": 2
}
